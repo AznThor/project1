{
 "cells": [
  {
   "cell_type": "code",
   "execution_count": 1,
   "metadata": {},
   "outputs": [
    {
     "name": "stdout",
     "output_type": "stream",
     "text": [
      "Requirement already satisfied: yfinance in c:\\users\\t\\anaconda3\\lib\\site-packages (0.1.59)\n",
      "Requirement already satisfied: multitasking>=0.0.7 in c:\\users\\t\\anaconda3\\lib\\site-packages (from yfinance) (0.0.9)\n",
      "Requirement already satisfied: numpy>=1.15 in c:\\users\\t\\anaconda3\\lib\\site-packages (from yfinance) (1.19.2)\n",
      "Requirement already satisfied: requests>=2.20 in c:\\users\\t\\anaconda3\\lib\\site-packages (from yfinance) (2.24.0)\n",
      "Requirement already satisfied: pandas>=0.24 in c:\\users\\t\\anaconda3\\lib\\site-packages (from yfinance) (1.1.3)\n",
      "Requirement already satisfied: lxml>=4.5.1 in c:\\users\\t\\anaconda3\\lib\\site-packages (from yfinance) (4.6.1)\n",
      "Requirement already satisfied: idna<3,>=2.5 in c:\\users\\t\\anaconda3\\lib\\site-packages (from requests>=2.20->yfinance) (2.10)\n",
      "Requirement already satisfied: urllib3!=1.25.0,!=1.25.1,<1.26,>=1.21.1 in c:\\users\\t\\anaconda3\\lib\\site-packages (from requests>=2.20->yfinance) (1.25.11)\n",
      "Requirement already satisfied: chardet<4,>=3.0.2 in c:\\users\\t\\anaconda3\\lib\\site-packages (from requests>=2.20->yfinance) (3.0.4)\n",
      "Requirement already satisfied: certifi>=2017.4.17 in c:\\users\\t\\anaconda3\\lib\\site-packages (from requests>=2.20->yfinance) (2020.6.20)\n",
      "Requirement already satisfied: pytz>=2017.2 in c:\\users\\t\\anaconda3\\lib\\site-packages (from pandas>=0.24->yfinance) (2020.1)\n",
      "Requirement already satisfied: python-dateutil>=2.7.3 in c:\\users\\t\\anaconda3\\lib\\site-packages (from pandas>=0.24->yfinance) (2.8.1)\n",
      "Requirement already satisfied: six>=1.5 in c:\\users\\t\\anaconda3\\lib\\site-packages (from python-dateutil>=2.7.3->pandas>=0.24->yfinance) (1.15.0)\n"
     ]
    }
   ],
   "source": [
    "!pip install yfinance"
   ]
  },
  {
   "cell_type": "code",
   "execution_count": 10,
   "metadata": {},
   "outputs": [],
   "source": [
    "import yfinance as yf  \n",
    "import matplotlib.pyplot as plt\n",
    "import pandas as pd\n",
    "import numpy as np\n",
    "import datetime as dt"
   ]
  },
  {
   "cell_type": "code",
   "execution_count": 3,
   "metadata": {},
   "outputs": [],
   "source": [
    "def get_ticker_data(ticker, start, end, interval):\n",
    "    \n",
    "    # import libaries\n",
    "    import yfinance as yf  \n",
    "    import matplotlib.pyplot as plt\n",
    "    import pandas as pd\n",
    "    \n",
    "    # download data using yfinance libary\n",
    "    df = yf.download(tickers=ticker,start=start,end=end,interval=interval)\n",
    "    \n",
    "    # add in column showing price % change from start date \n",
    "    df['Percent_Change'] = [(df['Close'][i] - df['Open'][i]) / df['Open'][i] * 100 for i in range(len(df['Open']))]\n",
    "    df['Change_Close_Less_Open'] = [df['Close'][i] - df['Open'][i] for i in range(len(df['Open']))]\n",
    "    return df"
   ]
  },
  {
   "cell_type": "code",
   "execution_count": 4,
   "metadata": {},
   "outputs": [
    {
     "name": "stdout",
     "output_type": "stream",
     "text": [
      "[*********************100%***********************]  1 of 1 completed\n"
     ]
    }
   ],
   "source": [
    "df_btc = get_ticker_data(ticker='BTC-USD',start='2020-01-01',end='2021-04-30',interval='1d')"
   ]
  },
  {
   "cell_type": "code",
   "execution_count": 5,
   "metadata": {},
   "outputs": [
    {
     "name": "stdout",
     "output_type": "stream",
     "text": [
      "[*********************100%***********************]  1 of 1 completed\n"
     ]
    }
   ],
   "source": [
    "df_doge = get_ticker_data(ticker='DOGE-USD',start='2020-01-01',end='2021-04-30',interval='1d')"
   ]
  },
  {
   "cell_type": "code",
   "execution_count": 6,
   "metadata": {},
   "outputs": [
    {
     "name": "stderr",
     "output_type": "stream",
     "text": [
      "C:\\Users\\T\\anaconda3\\lib\\site-packages\\IPython\\core\\interactiveshell.py:3146: DtypeWarning: Columns (79,82,84) have mixed types.Specify dtype option on import or set low_memory=False.\n",
      "  has_raised = await self.run_ast_nodes(code_ast.body, cell_name,\n"
     ]
    },
    {
     "data": {
      "text/html": [
       "<div>\n",
       "<style scoped>\n",
       "    .dataframe tbody tr th:only-of-type {\n",
       "        vertical-align: middle;\n",
       "    }\n",
       "\n",
       "    .dataframe tbody tr th {\n",
       "        vertical-align: top;\n",
       "    }\n",
       "\n",
       "    .dataframe thead th {\n",
       "        text-align: right;\n",
       "    }\n",
       "</style>\n",
       "<table border=\"1\" class=\"dataframe\">\n",
       "  <thead>\n",
       "    <tr style=\"text-align: right;\">\n",
       "      <th></th>\n",
       "      <th>all_awardings</th>\n",
       "      <th>allow_live_comments</th>\n",
       "      <th>author</th>\n",
       "      <th>author_flair_css_class</th>\n",
       "      <th>author_flair_richtext</th>\n",
       "      <th>author_flair_text</th>\n",
       "      <th>author_flair_type</th>\n",
       "      <th>author_fullname</th>\n",
       "      <th>author_patreon_flair</th>\n",
       "      <th>author_premium</th>\n",
       "      <th>...</th>\n",
       "      <th>author_flair_text_color</th>\n",
       "      <th>gallery_data</th>\n",
       "      <th>is_gallery</th>\n",
       "      <th>author_flair_template_id</th>\n",
       "      <th>poll_data</th>\n",
       "      <th>author_cakeday</th>\n",
       "      <th>banned_by</th>\n",
       "      <th>suggested_sort</th>\n",
       "      <th>gilded</th>\n",
       "      <th>top_awarded_type</th>\n",
       "    </tr>\n",
       "  </thead>\n",
       "  <tbody>\n",
       "    <tr>\n",
       "      <th>0</th>\n",
       "      <td>[]</td>\n",
       "      <td>False</td>\n",
       "      <td>neobz42</td>\n",
       "      <td>NaN</td>\n",
       "      <td>[]</td>\n",
       "      <td>NaN</td>\n",
       "      <td>text</td>\n",
       "      <td>t2_99hi0</td>\n",
       "      <td>False</td>\n",
       "      <td>False</td>\n",
       "      <td>...</td>\n",
       "      <td>NaN</td>\n",
       "      <td>NaN</td>\n",
       "      <td>NaN</td>\n",
       "      <td>NaN</td>\n",
       "      <td>NaN</td>\n",
       "      <td>NaN</td>\n",
       "      <td>NaN</td>\n",
       "      <td>NaN</td>\n",
       "      <td>NaN</td>\n",
       "      <td>NaN</td>\n",
       "    </tr>\n",
       "    <tr>\n",
       "      <th>1</th>\n",
       "      <td>[]</td>\n",
       "      <td>False</td>\n",
       "      <td>Randy-Candy</td>\n",
       "      <td>NaN</td>\n",
       "      <td>[]</td>\n",
       "      <td>NaN</td>\n",
       "      <td>text</td>\n",
       "      <td>t2_338fg1xq</td>\n",
       "      <td>False</td>\n",
       "      <td>False</td>\n",
       "      <td>...</td>\n",
       "      <td>NaN</td>\n",
       "      <td>NaN</td>\n",
       "      <td>NaN</td>\n",
       "      <td>NaN</td>\n",
       "      <td>NaN</td>\n",
       "      <td>NaN</td>\n",
       "      <td>NaN</td>\n",
       "      <td>NaN</td>\n",
       "      <td>NaN</td>\n",
       "      <td>NaN</td>\n",
       "    </tr>\n",
       "    <tr>\n",
       "      <th>2</th>\n",
       "      <td>[]</td>\n",
       "      <td>False</td>\n",
       "      <td>hshdhdjejjee</td>\n",
       "      <td>NaN</td>\n",
       "      <td>[]</td>\n",
       "      <td>NaN</td>\n",
       "      <td>text</td>\n",
       "      <td>t2_5wqatt75</td>\n",
       "      <td>False</td>\n",
       "      <td>False</td>\n",
       "      <td>...</td>\n",
       "      <td>NaN</td>\n",
       "      <td>NaN</td>\n",
       "      <td>NaN</td>\n",
       "      <td>NaN</td>\n",
       "      <td>NaN</td>\n",
       "      <td>NaN</td>\n",
       "      <td>NaN</td>\n",
       "      <td>NaN</td>\n",
       "      <td>NaN</td>\n",
       "      <td>NaN</td>\n",
       "    </tr>\n",
       "    <tr>\n",
       "      <th>3</th>\n",
       "      <td>[]</td>\n",
       "      <td>False</td>\n",
       "      <td>Zealousideal_Fix7776</td>\n",
       "      <td>NaN</td>\n",
       "      <td>[]</td>\n",
       "      <td>NaN</td>\n",
       "      <td>text</td>\n",
       "      <td>t2_6qe2ct2w</td>\n",
       "      <td>False</td>\n",
       "      <td>False</td>\n",
       "      <td>...</td>\n",
       "      <td>NaN</td>\n",
       "      <td>NaN</td>\n",
       "      <td>NaN</td>\n",
       "      <td>NaN</td>\n",
       "      <td>NaN</td>\n",
       "      <td>NaN</td>\n",
       "      <td>NaN</td>\n",
       "      <td>NaN</td>\n",
       "      <td>NaN</td>\n",
       "      <td>NaN</td>\n",
       "    </tr>\n",
       "    <tr>\n",
       "      <th>4</th>\n",
       "      <td>[]</td>\n",
       "      <td>False</td>\n",
       "      <td>swirlybuns</td>\n",
       "      <td>NaN</td>\n",
       "      <td>[]</td>\n",
       "      <td>NaN</td>\n",
       "      <td>text</td>\n",
       "      <td>t2_3icwxuh</td>\n",
       "      <td>False</td>\n",
       "      <td>False</td>\n",
       "      <td>...</td>\n",
       "      <td>NaN</td>\n",
       "      <td>NaN</td>\n",
       "      <td>NaN</td>\n",
       "      <td>NaN</td>\n",
       "      <td>NaN</td>\n",
       "      <td>NaN</td>\n",
       "      <td>NaN</td>\n",
       "      <td>NaN</td>\n",
       "      <td>NaN</td>\n",
       "      <td>NaN</td>\n",
       "    </tr>\n",
       "  </tbody>\n",
       "</table>\n",
       "<p>5 rows × 85 columns</p>\n",
       "</div>"
      ],
      "text/plain": [
       "  all_awardings  allow_live_comments                author  \\\n",
       "0            []                False               neobz42   \n",
       "1            []                False           Randy-Candy   \n",
       "2            []                False          hshdhdjejjee   \n",
       "3            []                False  Zealousideal_Fix7776   \n",
       "4            []                False            swirlybuns   \n",
       "\n",
       "  author_flair_css_class author_flair_richtext author_flair_text  \\\n",
       "0                    NaN                    []               NaN   \n",
       "1                    NaN                    []               NaN   \n",
       "2                    NaN                    []               NaN   \n",
       "3                    NaN                    []               NaN   \n",
       "4                    NaN                    []               NaN   \n",
       "\n",
       "  author_flair_type author_fullname author_patreon_flair author_premium  ...  \\\n",
       "0              text        t2_99hi0                False          False  ...   \n",
       "1              text     t2_338fg1xq                False          False  ...   \n",
       "2              text     t2_5wqatt75                False          False  ...   \n",
       "3              text     t2_6qe2ct2w                False          False  ...   \n",
       "4              text      t2_3icwxuh                False          False  ...   \n",
       "\n",
       "  author_flair_text_color  gallery_data  is_gallery  author_flair_template_id  \\\n",
       "0                     NaN           NaN         NaN                       NaN   \n",
       "1                     NaN           NaN         NaN                       NaN   \n",
       "2                     NaN           NaN         NaN                       NaN   \n",
       "3                     NaN           NaN         NaN                       NaN   \n",
       "4                     NaN           NaN         NaN                       NaN   \n",
       "\n",
       "  poll_data author_cakeday banned_by suggested_sort  gilded  top_awarded_type  \n",
       "0       NaN            NaN       NaN            NaN     NaN               NaN  \n",
       "1       NaN            NaN       NaN            NaN     NaN               NaN  \n",
       "2       NaN            NaN       NaN            NaN     NaN               NaN  \n",
       "3       NaN            NaN       NaN            NaN     NaN               NaN  \n",
       "4       NaN            NaN       NaN            NaN     NaN               NaN  \n",
       "\n",
       "[5 rows x 85 columns]"
      ]
     },
     "execution_count": 6,
     "metadata": {},
     "output_type": "execute_result"
    }
   ],
   "source": [
    "df_reddit_doge = pd.read_csv('reddit_pmaw_output_dogecoin_subreddit.1.1.21-4.30.21.csv')\n",
    "\n",
    "df_reddit_doge.head()"
   ]
  },
  {
   "cell_type": "code",
   "execution_count": 14,
   "metadata": {
    "scrolled": false
   },
   "outputs": [
    {
     "data": {
      "text/html": [
       "<div>\n",
       "<style scoped>\n",
       "    .dataframe tbody tr th:only-of-type {\n",
       "        vertical-align: middle;\n",
       "    }\n",
       "\n",
       "    .dataframe tbody tr th {\n",
       "        vertical-align: top;\n",
       "    }\n",
       "\n",
       "    .dataframe thead th {\n",
       "        text-align: right;\n",
       "    }\n",
       "</style>\n",
       "<table border=\"1\" class=\"dataframe\">\n",
       "  <thead>\n",
       "    <tr style=\"text-align: right;\">\n",
       "      <th></th>\n",
       "      <th>subreddit</th>\n",
       "      <th>created_utc</th>\n",
       "      <th>subreddit_subscribers</th>\n",
       "      <th>num_comments</th>\n",
       "    </tr>\n",
       "  </thead>\n",
       "  <tbody>\n",
       "    <tr>\n",
       "      <th>0</th>\n",
       "      <td>dogecoin</td>\n",
       "      <td>2021-01-13 05:10:16</td>\n",
       "      <td>183938</td>\n",
       "      <td>33</td>\n",
       "    </tr>\n",
       "    <tr>\n",
       "      <th>1</th>\n",
       "      <td>dogecoin</td>\n",
       "      <td>2021-01-13 04:57:42</td>\n",
       "      <td>183939</td>\n",
       "      <td>0</td>\n",
       "    </tr>\n",
       "    <tr>\n",
       "      <th>2</th>\n",
       "      <td>dogecoin</td>\n",
       "      <td>2021-01-13 04:43:22</td>\n",
       "      <td>183935</td>\n",
       "      <td>20</td>\n",
       "    </tr>\n",
       "    <tr>\n",
       "      <th>3</th>\n",
       "      <td>dogecoin</td>\n",
       "      <td>2021-01-13 04:42:17</td>\n",
       "      <td>183935</td>\n",
       "      <td>0</td>\n",
       "    </tr>\n",
       "    <tr>\n",
       "      <th>4</th>\n",
       "      <td>dogecoin</td>\n",
       "      <td>2021-01-13 04:13:49</td>\n",
       "      <td>183920</td>\n",
       "      <td>13</td>\n",
       "    </tr>\n",
       "  </tbody>\n",
       "</table>\n",
       "</div>"
      ],
      "text/plain": [
       "  subreddit         created_utc  subreddit_subscribers  num_comments\n",
       "0  dogecoin 2021-01-13 05:10:16                 183938            33\n",
       "1  dogecoin 2021-01-13 04:57:42                 183939             0\n",
       "2  dogecoin 2021-01-13 04:43:22                 183935            20\n",
       "3  dogecoin 2021-01-13 04:42:17                 183935             0\n",
       "4  dogecoin 2021-01-13 04:13:49                 183920            13"
      ]
     },
     "execution_count": 14,
     "metadata": {},
     "output_type": "execute_result"
    }
   ],
   "source": [
    "df_reddit_doge = df_reddit_doge[['subreddit', 'created_utc', 'subreddit_subscribers', 'num_comments']]\n",
    "\n",
    "df_reddit_doge.head()"
   ]
  },
  {
   "cell_type": "code",
   "execution_count": 15,
   "metadata": {
    "scrolled": true
   },
   "outputs": [
    {
     "data": {
      "text/html": [
       "<div>\n",
       "<style scoped>\n",
       "    .dataframe tbody tr th:only-of-type {\n",
       "        vertical-align: middle;\n",
       "    }\n",
       "\n",
       "    .dataframe tbody tr th {\n",
       "        vertical-align: top;\n",
       "    }\n",
       "\n",
       "    .dataframe thead th {\n",
       "        text-align: right;\n",
       "    }\n",
       "</style>\n",
       "<table border=\"1\" class=\"dataframe\">\n",
       "  <thead>\n",
       "    <tr style=\"text-align: right;\">\n",
       "      <th></th>\n",
       "      <th>subreddit</th>\n",
       "      <th>created_utc</th>\n",
       "      <th>subreddit_subscribers</th>\n",
       "      <th>num_comments</th>\n",
       "    </tr>\n",
       "  </thead>\n",
       "  <tbody>\n",
       "    <tr>\n",
       "      <th>0</th>\n",
       "      <td>dogecoin</td>\n",
       "      <td>2021-01-13 05:10:16</td>\n",
       "      <td>183938</td>\n",
       "      <td>33</td>\n",
       "    </tr>\n",
       "    <tr>\n",
       "      <th>1</th>\n",
       "      <td>dogecoin</td>\n",
       "      <td>2021-01-13 04:57:42</td>\n",
       "      <td>183939</td>\n",
       "      <td>0</td>\n",
       "    </tr>\n",
       "    <tr>\n",
       "      <th>2</th>\n",
       "      <td>dogecoin</td>\n",
       "      <td>2021-01-13 04:43:22</td>\n",
       "      <td>183935</td>\n",
       "      <td>20</td>\n",
       "    </tr>\n",
       "    <tr>\n",
       "      <th>3</th>\n",
       "      <td>dogecoin</td>\n",
       "      <td>2021-01-13 04:42:17</td>\n",
       "      <td>183935</td>\n",
       "      <td>0</td>\n",
       "    </tr>\n",
       "    <tr>\n",
       "      <th>4</th>\n",
       "      <td>dogecoin</td>\n",
       "      <td>2021-01-13 04:13:49</td>\n",
       "      <td>183920</td>\n",
       "      <td>13</td>\n",
       "    </tr>\n",
       "  </tbody>\n",
       "</table>\n",
       "</div>"
      ],
      "text/plain": [
       "  subreddit         created_utc  subreddit_subscribers  num_comments\n",
       "0  dogecoin 2021-01-13 05:10:16                 183938            33\n",
       "1  dogecoin 2021-01-13 04:57:42                 183939             0\n",
       "2  dogecoin 2021-01-13 04:43:22                 183935            20\n",
       "3  dogecoin 2021-01-13 04:42:17                 183935             0\n",
       "4  dogecoin 2021-01-13 04:13:49                 183920            13"
      ]
     },
     "execution_count": 15,
     "metadata": {},
     "output_type": "execute_result"
    }
   ],
   "source": [
    "# remove bad rows\n",
    "\n",
    "df_reddit_doge = df_reddit_doge[df_reddit_doge['subreddit'] == 'dogecoin']\n",
    "\n",
    "df_reddit_doge.head()"
   ]
  },
  {
   "cell_type": "code",
   "execution_count": 21,
   "metadata": {},
   "outputs": [
    {
     "data": {
      "text/plain": [
       "dogecoin    441767\n",
       "Name: subreddit, dtype: int64"
      ]
     },
     "execution_count": 21,
     "metadata": {},
     "output_type": "execute_result"
    }
   ],
   "source": [
    "# check value in subreddit column\n",
    "\n",
    "df_reddit_doge['subreddit'].value_counts()"
   ]
  },
  {
   "cell_type": "code",
   "execution_count": 22,
   "metadata": {},
   "outputs": [
    {
     "data": {
      "text/html": [
       "<div>\n",
       "<style scoped>\n",
       "    .dataframe tbody tr th:only-of-type {\n",
       "        vertical-align: middle;\n",
       "    }\n",
       "\n",
       "    .dataframe tbody tr th {\n",
       "        vertical-align: top;\n",
       "    }\n",
       "\n",
       "    .dataframe thead th {\n",
       "        text-align: right;\n",
       "    }\n",
       "</style>\n",
       "<table border=\"1\" class=\"dataframe\">\n",
       "  <thead>\n",
       "    <tr style=\"text-align: right;\">\n",
       "      <th></th>\n",
       "      <th>subreddit</th>\n",
       "      <th>created_utc</th>\n",
       "      <th>subreddit_subscribers</th>\n",
       "      <th>num_comments</th>\n",
       "      <th>created_date_utc</th>\n",
       "    </tr>\n",
       "  </thead>\n",
       "  <tbody>\n",
       "    <tr>\n",
       "      <th>0</th>\n",
       "      <td>dogecoin</td>\n",
       "      <td>2021-01-13 05:10:16</td>\n",
       "      <td>183938</td>\n",
       "      <td>33</td>\n",
       "      <td>2021-01-13</td>\n",
       "    </tr>\n",
       "    <tr>\n",
       "      <th>1</th>\n",
       "      <td>dogecoin</td>\n",
       "      <td>2021-01-13 04:57:42</td>\n",
       "      <td>183939</td>\n",
       "      <td>0</td>\n",
       "      <td>2021-01-13</td>\n",
       "    </tr>\n",
       "    <tr>\n",
       "      <th>2</th>\n",
       "      <td>dogecoin</td>\n",
       "      <td>2021-01-13 04:43:22</td>\n",
       "      <td>183935</td>\n",
       "      <td>20</td>\n",
       "      <td>2021-01-13</td>\n",
       "    </tr>\n",
       "    <tr>\n",
       "      <th>3</th>\n",
       "      <td>dogecoin</td>\n",
       "      <td>2021-01-13 04:42:17</td>\n",
       "      <td>183935</td>\n",
       "      <td>0</td>\n",
       "      <td>2021-01-13</td>\n",
       "    </tr>\n",
       "    <tr>\n",
       "      <th>4</th>\n",
       "      <td>dogecoin</td>\n",
       "      <td>2021-01-13 04:13:49</td>\n",
       "      <td>183920</td>\n",
       "      <td>13</td>\n",
       "      <td>2021-01-13</td>\n",
       "    </tr>\n",
       "  </tbody>\n",
       "</table>\n",
       "</div>"
      ],
      "text/plain": [
       "  subreddit         created_utc  subreddit_subscribers  num_comments  \\\n",
       "0  dogecoin 2021-01-13 05:10:16                 183938            33   \n",
       "1  dogecoin 2021-01-13 04:57:42                 183939             0   \n",
       "2  dogecoin 2021-01-13 04:43:22                 183935            20   \n",
       "3  dogecoin 2021-01-13 04:42:17                 183935             0   \n",
       "4  dogecoin 2021-01-13 04:13:49                 183920            13   \n",
       "\n",
       "  created_date_utc  \n",
       "0       2021-01-13  \n",
       "1       2021-01-13  \n",
       "2       2021-01-13  \n",
       "3       2021-01-13  \n",
       "4       2021-01-13  "
      ]
     },
     "execution_count": 22,
     "metadata": {},
     "output_type": "execute_result"
    }
   ],
   "source": [
    "# convert epoch time to datetime and date\n",
    "\n",
    "df_reddit_doge[\"created_utc\"] = pd.to_datetime(df_reddit_doge[\"created_utc\"],unit='s')\n",
    "df_reddit_doge[\"created_date_utc\"] = df_reddit_doge[\"created_utc\"].dt.date\n",
    "\n",
    "df_reddit_doge.head()\n"
   ]
  },
  {
   "cell_type": "code",
   "execution_count": 35,
   "metadata": {},
   "outputs": [
    {
     "data": {
      "text/html": [
       "<div>\n",
       "<style scoped>\n",
       "    .dataframe tbody tr th:only-of-type {\n",
       "        vertical-align: middle;\n",
       "    }\n",
       "\n",
       "    .dataframe tbody tr th {\n",
       "        vertical-align: top;\n",
       "    }\n",
       "\n",
       "    .dataframe thead th {\n",
       "        text-align: right;\n",
       "    }\n",
       "</style>\n",
       "<table border=\"1\" class=\"dataframe\">\n",
       "  <thead>\n",
       "    <tr style=\"text-align: right;\">\n",
       "      <th></th>\n",
       "      <th>submissions</th>\n",
       "      <th>comments</th>\n",
       "      <th>subscribers</th>\n",
       "    </tr>\n",
       "    <tr>\n",
       "      <th>created_date_utc</th>\n",
       "      <th></th>\n",
       "      <th></th>\n",
       "      <th></th>\n",
       "    </tr>\n",
       "  </thead>\n",
       "  <tbody>\n",
       "    <tr>\n",
       "      <th>2021-01-01</th>\n",
       "      <td>82</td>\n",
       "      <td>674</td>\n",
       "      <td>172166.853659</td>\n",
       "    </tr>\n",
       "    <tr>\n",
       "      <th>2021-01-02</th>\n",
       "      <td>1057</td>\n",
       "      <td>6887</td>\n",
       "      <td>173718.056764</td>\n",
       "    </tr>\n",
       "    <tr>\n",
       "      <th>2021-01-03</th>\n",
       "      <td>710</td>\n",
       "      <td>4528</td>\n",
       "      <td>176679.688732</td>\n",
       "    </tr>\n",
       "    <tr>\n",
       "      <th>2021-01-04</th>\n",
       "      <td>466</td>\n",
       "      <td>2930</td>\n",
       "      <td>178361.748927</td>\n",
       "    </tr>\n",
       "    <tr>\n",
       "      <th>2021-01-05</th>\n",
       "      <td>295</td>\n",
       "      <td>2509</td>\n",
       "      <td>179209.359322</td>\n",
       "    </tr>\n",
       "  </tbody>\n",
       "</table>\n",
       "</div>"
      ],
      "text/plain": [
       "                  submissions  comments    subscribers\n",
       "created_date_utc                                      \n",
       "2021-01-01                 82       674  172166.853659\n",
       "2021-01-02               1057      6887  173718.056764\n",
       "2021-01-03                710      4528  176679.688732\n",
       "2021-01-04                466      2930  178361.748927\n",
       "2021-01-05                295      2509  179209.359322"
      ]
     },
     "execution_count": 35,
     "metadata": {},
     "output_type": "execute_result"
    }
   ],
   "source": [
    "# sum rows by date, sum comments by date, and average subscribers by date\n",
    "\n",
    "doge_comments_sum = df_reddit_doge.groupby('created_date_utc').sum()['num_comments']\n",
    "doge_subscribers_avg = df_reddit_doge.groupby('created_date_utc').mean()['subreddit_subscribers']\n",
    "doge_submission_count = df_reddit_doge.groupby('created_date_utc').count()['subreddit']\n",
    "\n",
    "\n",
    "df_reddit_doge_summary = pd.DataFrame({'submissions': doge_submission_count, \n",
    "                                       'comments': doge_comments_sum, \n",
    "                                       'subscribers': doge_subscribers_avg\n",
    "                                      })\n",
    "\n",
    "df_reddit_doge_summary.head()"
   ]
  },
  {
   "cell_type": "code",
   "execution_count": 36,
   "metadata": {},
   "outputs": [],
   "source": [
    "df_combined_prices = df_doge.join(df_btc, how='inner', lsuffix='_doge', rsuffix='_btc')"
   ]
  },
  {
   "cell_type": "code",
   "execution_count": 38,
   "metadata": {},
   "outputs": [
    {
     "name": "stdout",
     "output_type": "stream",
     "text": [
      "The correlation is 0.01 with R-square value of 0.0\n"
     ]
    },
    {
     "data": {
      "image/png": "[encoded data removed]",
      "text/plain": [
       "<Figure size 432x288 with 1 Axes>"
      ]
     },
     "metadata": {
      "needs_background": "light"
     },
     "output_type": "display_data"
    }
   ],
   "source": [
    "import scipy.stats as st\n",
    "\n",
    "# Calculate the correlation coefficient and linear regression model \n",
    "\n",
    "btc = df_combined_prices['Change_Close_Less_Open_btc']\n",
    "doge = df_combined_prices['Change_Close_Less_Open_doge']\n",
    "\n",
    "# calculate and plot the regression line on the scatter plot\n",
    "\n",
    "(slope, intercept, rvalue, pvalue, stderr) = st.linregress(btc, doge)\n",
    "regress_values = btc * slope + intercept\n",
    "regress_eq = (f'''y = {str(round(slope, 3))}x + {str(round(intercept, 3))}\n",
    "r^2 = {round(rvalue**2,3)}''')\n",
    "\n",
    "# format plot\n",
    "fig, ax = plt.subplots()\n",
    "df_combined_prices.plot(kind='scatter', \n",
    "                 ax=ax, \n",
    "                 x='Change_Close_Less_Open_btc', \n",
    "                 y='Change_Close_Less_Open_doge'\n",
    "                )\n",
    "\n",
    "# plot trend linear regression line and annotate\n",
    "\n",
    "ax.plot(btc, regress_values, color = 'r')\n",
    "ax.annotate(regress_eq, (100,-0.05), color = 'r', fontsize=11)\n",
    "\n",
    "ax.set(title='Singe Day Range: Bitcoin vs. Dogecoin',\n",
    "       xlabel = 'Bitcoin Range ($)',\n",
    "       ylabel = 'Dogecoin Range ($)'\n",
    "       )\n",
    "\n",
    "fig.tight_layout();\n",
    "\n",
    "# calculate and print the correlation\n",
    "\n",
    "correlation = st.pearsonr(btc, doge)\n",
    "\n",
    "print(f'The correlation is {round(correlation[0], 2)} with R-square value of {round(rvalue**2,3)}')"
   ]
  },
  {
   "cell_type": "code",
   "execution_count": 60,
   "metadata": {
    "scrolled": true
   },
   "outputs": [
    {
     "name": "stdout",
     "output_type": "stream",
     "text": [
      "The correlation is 0.28 with R-square value of 0.081\n"
     ]
    },
    {
     "data": {
      "image/png": "[encoded data removed]",
      "text/plain": [
       "<Figure size 432x288 with 1 Axes>"
      ]
     },
     "metadata": {
      "needs_background": "light"
     },
     "output_type": "display_data"
    }
   ],
   "source": [
    "import scipy.stats as st\n",
    "\n",
    "# Calculate the correlation coefficient and linear regression model \n",
    "\n",
    "btc = df_combined_prices['Percent_Change_btc']\n",
    "doge = df_combined_prices['Percent_Change_doge']\n",
    "\n",
    "# calculate and plot the regression line on the scatter plot\n",
    "\n",
    "(slope, intercept, rvalue, pvalue, stderr) = st.linregress(btc, doge)\n",
    "regress_values = btc * slope + intercept\n",
    "regress_eq = (f'''y = {str(round(slope, 3))}x + {str(round(intercept, 3))}\n",
    "r^2 = {round(rvalue**2,3)}''')\n",
    "\n",
    "# format plot\n",
    "fig, ax = plt.subplots()\n",
    "df_combined_prices.plot(kind='scatter', \n",
    "                             ax=ax, \n",
    "                             x='Percent_Change_btc', \n",
    "                             y='Percent_Change_doge'\n",
    "                            )\n",
    "\n",
    "# plot trend linear regression line and annotate\n",
    "\n",
    "ax.plot(btc, regress_values, color = 'r')\n",
    "ax.annotate(regress_eq, (10,-30), color = 'r', fontsize=11)\n",
    "\n",
    "ax.set(title='Singe Day Price Range: Bitcoin vs. Dogecoin',\n",
    "       xlabel = 'Bitcoin Range (% change)',\n",
    "       ylabel = 'Dogecoin Range (% change)'\n",
    "       )\n",
    "\n",
    "fig.tight_layout();\n",
    "\n",
    "# calculate and print the correlation\n",
    "\n",
    "correlation = st.pearsonr(btc, doge)\n",
    "\n",
    "print(f'The correlation is {round(correlation[0], 2)} with R-square value of {round(rvalue**2,3)}')"
   ]
  },
  {
   "cell_type": "code",
   "execution_count": 47,
   "metadata": {
    "scrolled": true
   },
   "outputs": [
    {
     "data": {
      "text/plain": [
       "63"
      ]
     },
     "execution_count": 47,
     "metadata": {},
     "output_type": "execute_result"
    }
   ],
   "source": [
    "df_doge_price_reddit = df_doge.join(df_reddit_doge_summary, how='inner')\n",
    "\n",
    "df_doge_price_reddit['submissions'].min()"
   ]
  },
  {
   "cell_type": "code",
   "execution_count": 61,
   "metadata": {
    "scrolled": true
   },
   "outputs": [
    {
     "name": "stdout",
     "output_type": "stream",
     "text": [
      "The correlation is 0.25 with R-square value of 0.06\n"
     ]
    },
    {
     "data": {
      "image/png": "[encoded data removed]",
      "text/plain": [
       "<Figure size 432x288 with 1 Axes>"
      ]
     },
     "metadata": {
      "needs_background": "light"
     },
     "output_type": "display_data"
    }
   ],
   "source": [
    "import scipy.stats as st\n",
    "\n",
    "# Calculate the correlation coefficient and linear regression model \n",
    "\n",
    "comments = df_doge_price_reddit['comments']\n",
    "doge = df_doge_price_reddit['Percent_Change']\n",
    "\n",
    "# calculate and plot the regression line on the scatter plot\n",
    "\n",
    "(slope, intercept, rvalue, pvalue, stderr) = st.linregress(comments, doge)\n",
    "regress_values = comments * slope + intercept\n",
    "regress_eq = (f'''y = {str(round(slope, 3))}x + {str(round(intercept, 3))}\n",
    "r^2 = {round(rvalue**2,3)}''')\n",
    "\n",
    "# format plot\n",
    "fig, ax = plt.subplots()\n",
    "df_doge_price_reddit.plot(kind='scatter', \n",
    "                 ax=ax, \n",
    "                 x='comments', \n",
    "                 y='Percent_Change'\n",
    "                )\n",
    "\n",
    "# plot trend linear regression line and annotate\n",
    "\n",
    "ax.plot(comments, regress_values, color = 'r')\n",
    "ax.annotate(regress_eq, (200000,-0.05), color = 'r', fontsize=11)\n",
    "\n",
    "ax.set(title='Reddit Comments vs. Dogecoin Price Change',\n",
    "       xlabel = 'Subreddit comments',\n",
    "       ylabel = 'Dogecoin Range (%)'\n",
    "       )\n",
    "\n",
    "fig.tight_layout();\n",
    "\n",
    "# calculate and print the correlation\n",
    "\n",
    "correlation = st.pearsonr(comments, doge)\n",
    "\n",
    "print(f'The correlation is {round(correlation[0], 2)} with R-square value of {round(rvalue**2,3)}')"
   ]
  },
  {
   "cell_type": "code",
   "execution_count": 98,
   "metadata": {
    "scrolled": false
   },
   "outputs": [
    {
     "data": {
      "image/png": "[encoded data removed]",
      "text/plain": [
       "<Figure size 1080x540 with 2 Axes>"
      ]
     },
     "metadata": {
      "needs_background": "light"
     },
     "output_type": "display_data"
    }
   ],
   "source": [
    "fig, ax = plt.subplots(figsize=(15,7.5))\n",
    "ax1 = df_doge_price_reddit['Close'].plot(ax=ax, legend=True, label='Price', logy=False)\n",
    "ax2 = df_doge_price_reddit['subscribers'].plot(ax=ax, secondary_y=True, legend=True, label='Subscribers', logy=False)\n",
    "ax.set(title='Dogecoin Price and Subreddit Subscribers',\n",
    "       xlabel = 'Date'\n",
    "       )\n",
    "ax1.set_ylabel('Dogecoin Price ($)')\n",
    "ax2.set_ylabel('Subreddit Subscribers')\n",
    "fig.tight_layout();"
   ]
  },
  {
   "cell_type": "code",
   "execution_count": 99,
   "metadata": {},
   "outputs": [
    {
     "data": {
      "image/png": "[encoded data removed]",
      "text/plain": [
       "<Figure size 1080x540 with 2 Axes>"
      ]
     },
     "metadata": {
      "needs_background": "light"
     },
     "output_type": "display_data"
    }
   ],
   "source": [
    "fig, ax = plt.subplots(figsize=(15,7.5))\n",
    "ax1 = df_doge_price_reddit['Close'].plot(ax=ax, legend=True, label='Price', logy=True)\n",
    "ax2 = df_doge_price_reddit['subscribers'].plot(ax=ax, secondary_y=True, legend=True, label='Subscribers', logy=True)\n",
    "ax.set(title='Dogecoin Price and Subreddit Subscribers',\n",
    "       xlabel = 'Date'\n",
    "       )\n",
    "ax1.set_ylabel('Dogecoin Price ($)')\n",
    "ax2.set_ylabel('Subreddit Subscribers')\n",
    "fig.tight_layout();"
   ]
  }
 ],
 "metadata": {
  "kernelspec": {
   "display_name": "Python 3",
   "language": "python",
   "name": "python3"
  },
  "language_info": {
   "codemirror_mode": {
    "name": "ipython",
    "version": 3
   },
   "file_extension": ".py",
   "mimetype": "text/x-python",
   "name": "python",
   "nbconvert_exporter": "python",
   "pygments_lexer": "ipython3",
   "version": "3.8.5"
  }
 },
 "nbformat": 4,
 "nbformat_minor": 4
}
